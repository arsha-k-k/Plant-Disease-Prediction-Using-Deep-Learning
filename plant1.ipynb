{
 "cells": [
  {
   "cell_type": "code",
   "execution_count": 2,
   "id": "1cadc752",
   "metadata": {},
   "outputs": [],
   "source": [
    "import keras\n",
    "import cv2\n",
    "import matplotlib.pyplot as plt\n",
    "import os"
   ]
  },
  {
   "cell_type": "code",
   "execution_count": 3,
   "id": "ee8c418c",
   "metadata": {},
   "outputs": [
    {
     "name": "stderr",
     "output_type": "stream",
     "text": [
      "WARNING:absl:Compiled the loaded model, but the compiled metrics have yet to be built. `model.compile_metrics` will be empty until you train or evaluate the model.\n"
     ]
    }
   ],
   "source": [
    "import numpy as np\n",
    "# Define categories\n",
    "CATEGORIES = [\n",
    "    'Apple___Apple_scab', 'Apple___Black_rot', 'Apple___Cedar_apple_rust',\n",
    "    'Apple___healthy', 'Blueberry___healthy', 'Cherry_(including_sour)___Powdery_mildew',\n",
    "    'Cherry_(including_sour)___healthy', 'Corn_(maize)___Cercospora_leaf_spot Gray_leaf_spot',\n",
    "    'Corn_(maize)___Common_rust_', 'Corn_(maize)___Northern_Leaf_Blight', 'Corn_(maize)___healthy',\n",
    "    'Grape___Black_rot', 'Grape___Esca_(Black_Measles)', 'Grape___Leaf_blight_(Isariopsis_Leaf_Spot)',\n",
    "    'Grape___healthy', 'Orange___Haunglongbing_(Citrus_greening)', 'Peach___Bacterial_spot',\n",
    "    'Peach___healthy', 'Pepper,_bell___Bacterial_spot', 'Pepper,_bell___healthy', 'Potato___Early_blight',\n",
    "    'Potato___Late_blight', 'Potato___healthy', 'Raspberry___healthy', 'Soybean___healthy',\n",
    "    'Squash___Powdery_mildew', 'Strawberry___Leaf_scorch', 'Strawberry___healthy',\n",
    "    'Tomato___Bacterial_spot', 'Tomato___Early_blight', 'Tomato___Late_blight', 'Tomato___Leaf_Mold',\n",
    "    'Tomato___Septoria_leaf_spot', 'Tomato___Spider_mites Two-spotted_spider_mite', 'Tomato___Target_Spot',\n",
    "    'Tomato___Tomato_Yellow_Leaf_Curl_Virus', 'Tomato___Tomato_mosaic_virus', 'Tomato___healthy'\n",
    "]\n",
    "\n",
    "# Function to preprocess the image\n",
    "def image(path):\n",
    "    img = cv2.imread(path)\n",
    "    if img is None:\n",
    "        print(\"Failed to load image!\")\n",
    "        return None\n",
    "    new_arr = cv2.resize(img, (100, 100))  # Resize to match model input\n",
    "    new_arr = np.array(new_arr / 255.0)  # Normalize pixel values\n",
    "    new_arr = new_arr.reshape(-1, 100, 100, 3)  # Reshape to add batch dimension\n",
    "    return new_arr\n",
    "\n",
    "# Load the model\n",
    "model = keras.models.load_model(r'D:\\arsha\\DL\\Plant Disease Project DL\\plant_disease.h5')\n"
   ]
  },
  {
   "cell_type": "code",
   "execution_count": 4,
   "id": "b7b6c712",
   "metadata": {},
   "outputs": [],
   "source": [
    "# Recompile if necessary\n",
    "model.compile(optimizer='adam', loss='categorical_crossentropy', metrics=['accuracy'])"
   ]
  },
  {
   "cell_type": "code",
   "execution_count": 8,
   "id": "bd8368d3",
   "metadata": {},
   "outputs": [
    {
     "name": "stdout",
     "output_type": "stream",
     "text": [
      "Image found!\n",
      "\u001b[1m1/1\u001b[0m \u001b[32m━━━━━━━━━━━━━━━━━━━━\u001b[0m\u001b[37m\u001b[0m \u001b[1m0s\u001b[0m 34ms/step\n",
      "Prediction: [[1.6234051e-08 1.5742767e-09 9.9998510e-01 3.0789576e-10 1.7608588e-12\n",
      "  1.3496893e-06 6.5874210e-13 6.4069350e-06 8.0591280e-12 3.1164675e-11\n",
      "  2.2141592e-15 5.9219067e-11 1.2762744e-10 1.1533373e-13 1.1872582e-15\n",
      "  6.1188016e-10 6.4578978e-14 3.4144772e-14 2.9308227e-08 1.9591621e-14\n",
      "  2.3765547e-09 1.3540251e-12 1.2292511e-13 1.1650276e-15 2.0327812e-14\n",
      "  3.9515893e-10 2.6638490e-13 1.0680441e-11 7.1464647e-06 7.7128172e-11\n",
      "  4.1527212e-11 3.4951344e-11 1.8206285e-09 2.3642836e-13 1.8098417e-11\n",
      "  5.3066297e-12 1.0033132e-15 1.3568896e-12]]\n",
      "Predicted class index: 2\n",
      "Predicted category: Apple___Cedar_apple_rust\n"
     ]
    }
   ],
   "source": [
    "# Use an image path to predict\n",
    "image_path = r\"D:\\arsha\\DL\\Plant Disease Project DL\\plantvillage dataset\\color\\Apple___Cedar_apple_rust\\2ac8d689-f30a-4eee-a856-86c92f8dcbd2___FREC_C.Rust 3952.JPG\"\n",
    "if os.path.exists(image_path):\n",
    "    print(\"Image found!\")\n",
    "    img_array = image(image_path)  # Preprocess the image\n",
    "    if img_array is not None:\n",
    "        # Make prediction\n",
    "        prediction = model.predict(img_array)\n",
    "        print(f\"Prediction: {prediction}\")\n",
    "\n",
    "        # Find the index of the highest probability class\n",
    "        predicted_class_index = prediction.argmax()\n",
    "        print(f\"Predicted class index: {predicted_class_index}\")\n",
    "        print(f\"Predicted category: {CATEGORIES[predicted_class_index]}\")  # Display the class name\n",
    "else:\n",
    "    print(\"Image not found!\")"
   ]
  }
 ],
 "metadata": {
  "kernelspec": {
   "display_name": "Python 3",
   "language": "python",
   "name": "python3"
  },
  "language_info": {
   "codemirror_mode": {
    "name": "ipython",
    "version": 3
   },
   "file_extension": ".py",
   "mimetype": "text/x-python",
   "name": "python",
   "nbconvert_exporter": "python",
   "pygments_lexer": "ipython3",
   "version": "3.10.0"
  }
 },
 "nbformat": 4,
 "nbformat_minor": 5
}
